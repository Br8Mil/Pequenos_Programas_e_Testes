{
  "cells": [
    {
      "cell_type": "code",
      "execution_count": 2,
      "metadata": {
        "colab": {
          "base_uri": "https://localhost:8080/",
          "height": 408
        },
        "id": "8ktlGN2CAVEc",
        "outputId": "6d986666-9400-4617-c92d-5afab2753539"
      },
      "outputs": [
        {
          "name": "stdout",
          "output_type": "stream",
          "text": [
            "\n",
            "Sua passagem custará R$ 6.00.\n"
          ]
        }
      ],
      "source": [
        "escolha = int(input(''' Qual o seu destino?\n",
        "\n",
        "[1] Rio Doce         [7] São Sebastião\n",
        "[2] São Bento        [8] Very Well\n",
        "[3] Quebrada do Zé   [9] São Miguel dos Campos\n",
        "[4] Rio dos Rios     [10] Rio da Bosta\n",
        "[5] Mar Doce         [11] Maracatú\n",
        "[6] José Serra       [12] Rio Azedo\n",
        "\n",
        "Digite o número correspondente: '''))\n",
        "\n",
        "while escolha > 12:\n",
        "  print('\\n\\n.No máximo são 12 escolhas, tente novamente.\\n\\n')\n",
        "else:\n",
        "  pass\n",
        "\n",
        "destino = {1: 120, 2: 60, 3: 560, 4: 1340, 5: 543, 6: 2000, 7: 764, 8: 8784, 9: 2345, 10: 1234, 11: 911, 12: 34520}\n",
        "\n",
        "if escolha <= 200:\n",
        "    print(f'\\nSua passagem custará R$ {escolha * 0.50:,.2f}.')\n",
        "else:\n",
        "    print(f'\\nSua passagem custará R$ {destino[escolha] * 0.45:,.2f}.')\n"
      ]
    }
  ],
  "metadata": {
    "colab": {
      "provenance": []
    },
    "kernelspec": {
      "display_name": "Python 3",
      "name": "python3"
    },
    "language_info": {
      "codemirror_mode": {
        "name": "ipython",
        "version": 3
      },
      "file_extension": ".py",
      "mimetype": "text/x-python",
      "name": "python",
      "nbconvert_exporter": "python",
      "pygments_lexer": "ipython3",
      "version": "3.11.4"
    }
  },
  "nbformat": 4,
  "nbformat_minor": 0
}
