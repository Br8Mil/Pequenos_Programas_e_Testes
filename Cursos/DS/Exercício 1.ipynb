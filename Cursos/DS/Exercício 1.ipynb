{
 "cells": [
  {
   "cell_type": "markdown",
   "metadata": {},
   "source": [
    "## Operações Matemática com variáveis & condicionais\n",
    "\n",
    "1. Some o valor 10 com 30 e exiba na tela."
   ]
  },
  {
   "cell_type": "code",
   "execution_count": 1,
   "metadata": {},
   "outputs": [
    {
     "name": "stdout",
     "output_type": "stream",
     "text": [
      "40\n"
     ]
    }
   ],
   "source": [
    "print(10 + 30)"
   ]
  },
  {
   "cell_type": "markdown",
   "metadata": {},
   "source": [
    "2. Some os seguintes números: 10, 300, 0.4, 10."
   ]
  },
  {
   "cell_type": "code",
   "execution_count": 2,
   "metadata": {},
   "outputs": [
    {
     "name": "stdout",
     "output_type": "stream",
     "text": [
      "320.4\n"
     ]
    }
   ],
   "source": [
    "print(10 + 300 + 0.4 + 10)"
   ]
  },
  {
   "cell_type": "markdown",
   "metadata": {},
   "source": [
    "3. Desenvolva comandos em Python capaz de calcular a média harmônica\n",
    "entre 5 números. Por exemplo: 2, 3, 5, 6 e 9."
   ]
  },
  {
   "cell_type": "code",
   "execution_count": 1,
   "metadata": {},
   "outputs": [
    {
     "name": "stdout",
     "output_type": "stream",
     "text": [
      "A média harmônica foi 3.8135593220338984\n"
     ]
    }
   ],
   "source": [
    "valor_1 = int(input('Digite o primeiro valor: '))\n",
    "valor_2 = int(input('Digite o segundo valor: '))\n",
    "valor_3 = int(input('Digite o terceiro valor: '))\n",
    "valor_4 = int(input('Digite o quarto valor: '))\n",
    "valor_5 = int(input('Digite o quinto valor: '))\n",
    "\n",
    "quanti_valores = 5\n",
    "\n",
    "print(f'A média harmônica foi {quanti_valores / (1/valor_1 + 1/valor_2 + 1/valor_3 + 1/valor_4 + 1/valor_5)}')"
   ]
  },
  {
   "cell_type": "markdown",
   "metadata": {},
   "source": [
    "4. Um Cientista de Dados Jr precisa criar sequência de comandos que seja\n",
    "capaz de calcular a média ponderada dos valores digitados pelo usuário.\n",
    "O usuário é capaz de digitar 8 valores. O primeiro número tem peso 0.5 ,\n",
    "o segundo 1.0, o terceiro 1.5 até o último valor que tem peso 4, ou seja,\n",
    "os pesos são acrescidos de 0.5 para cada valor. Portanto, o algoritmo\n",
    "deve ser capaz de calcular a média ponderada dos oito valores digitados\n",
    "pelo usuário, cada valor com o seu respectivo peso.\n",
    "\n",
    "valor_01 = input( \"Digite o primeiro valor\" )\n",
    "valor_02 = input( \"Digite o segundo valor\" )\n",
    "valor_03 = input( \"Digite o terceiro valor\" )\n",
    "valor_04 = input( \"Digite o quarto valor\" )"
   ]
  },
  {
   "cell_type": "code",
   "execution_count": 3,
   "metadata": {},
   "outputs": [
    {
     "name": "stdout",
     "output_type": "stream",
     "text": [
      "O valor da média ponderada é: 5.972222222222222\n"
     ]
    }
   ],
   "source": [
    "peso_1 = 0.5\n",
    "peso_2 = 1.0\n",
    "peso_3 = 1.5\n",
    "peso_4 = 2.0\n",
    "peso_5 = 2.5\n",
    "peso_6 = 3.0\n",
    "peso_7 = 3.5\n",
    "peso_8 = 4.0\n",
    "\n",
    "valor_1 = int(input('Digite o primeiro valor: '))\n",
    "valor_2 = int(input('Digite o segundo valor: '))\n",
    "valor_3 = int(input('Digite o terceiro valor: '))\n",
    "valor_4 = int(input('Digite o quarto valor: '))\n",
    "valor_5 = int(input('Digite o quinto valor: '))\n",
    "valor_6 = int(input('Digite o sexto valor: '))\n",
    "valor_7 = int(input('Digite o sétimo valor: '))\n",
    "valor_8 = int(input('Digite o oitavo valor: '))\n",
    "\n",
    "numerador = (peso_1 * valor_1) + (peso_2 * valor_2) + (peso_3 * valor_3) + (peso_4 * valor_4) + (peso_5 * valor_5) + (peso_6 * valor_6) + (peso_7 * valor_7) + (peso_8 * valor_8)\n",
    "denominador = peso_1 + peso_2 + peso_3 + peso_4 + peso_5 + peso_6 + peso_7 + peso_8\n",
    "print(f'O valor da média ponderada é: {numerador / denominador}')"
   ]
  },
  {
   "cell_type": "markdown",
   "metadata": {},
   "source": [
    "5. Um programador Jr precisa construir uma mini calculadora. Essa\n",
    "calculadora segue os seguintes padrões:\n",
    "a. Se o usuário digital um valor menor ou igual a 5, a calculadora vai\n",
    "multiplicar esse valor por 10 e retornar o valor resultantes para o\n",
    "usuário\n",
    "b. Se o usuário digitar um número entre 6 e 10, a calculadora multiplica\n",
    "por 20 o número digitado pelo usuário\n",
    "c. Se o usuário digitar um valor maior ou igual a 11, a calculadora soma\n",
    "100 ao número digitado. Ajude o programador Jr a construir essa\n",
    "calculadora, fornecendo os comandos em Python para ele."
   ]
  },
  {
   "cell_type": "code",
   "execution_count": 21,
   "metadata": {},
   "outputs": [
    {
     "name": "stdout",
     "output_type": "stream",
     "text": [
      "Resultado: 120\n"
     ]
    }
   ],
   "source": [
    "perg = int(input('Digite o valor desejado:'))\n",
    "if perg <= 5:\n",
    "    print(f'Resultado: {perg * 10}')\n",
    "elif perg <= 11:\n",
    "    print(f'Resultado: {perg * 20}')\n",
    "elif perg >= 11:\n",
    "    print(f'Resultado: {perg + 100}')"
   ]
  },
  {
   "cell_type": "markdown",
   "metadata": {},
   "source": [
    "6. Um programador Jr precisa criar um algoritmo que consiga fazer a\n",
    "comparação entre três valores e exibir qual é o maior e qual é o menor\n",
    "valor digitado. Ajude o programador desenvolvendo o código em Python."
   ]
  },
  {
   "cell_type": "code",
   "execution_count": 14,
   "metadata": {},
   "outputs": [
    {
     "name": "stdout",
     "output_type": "stream",
     "text": [
      "Os valores digitados foram [50, 10, 400].\n",
      "O maior valor é 400, e o menor é 10.\n"
     ]
    }
   ],
   "source": [
    "lista = []\n",
    "while True:\n",
    "    if len(lista) != 3:\n",
    "        perg = int(input('Digite o valor para ser comparado: '))\n",
    "        lista.append(perg)\n",
    "    elif len(lista) == 3:\n",
    "        print(f'Os valores digitados foram {lista}.\\nO maior valor é {max(lista)}, e o menor é {min(lista)}.')\n",
    "        break"
   ]
  }
 ],
 "metadata": {
  "kernelspec": {
   "display_name": "Python 3",
   "language": "python",
   "name": "python3"
  },
  "language_info": {
   "codemirror_mode": {
    "name": "ipython",
    "version": 3
   },
   "file_extension": ".py",
   "mimetype": "text/x-python",
   "name": "python",
   "nbconvert_exporter": "python",
   "pygments_lexer": "ipython3",
   "version": "3.11.4"
  },
  "orig_nbformat": 4
 },
 "nbformat": 4,
 "nbformat_minor": 2
}
