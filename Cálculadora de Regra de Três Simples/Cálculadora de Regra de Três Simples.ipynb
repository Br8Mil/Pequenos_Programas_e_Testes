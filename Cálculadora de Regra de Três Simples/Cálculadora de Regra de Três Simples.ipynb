{
 "cells": [
  {
   "cell_type": "code",
   "execution_count": 2,
   "metadata": {},
   "outputs": [
    {
     "data": {
      "text/plain": [
       "'DarkAmber'"
      ]
     },
     "execution_count": 2,
     "metadata": {},
     "output_type": "execute_result"
    }
   ],
   "source": [
    "import PySimpleGUI as sg\n",
    "\n",
    "sg.theme('DarkAmber')"
   ]
  },
  {
   "cell_type": "code",
   "execution_count": 11,
   "metadata": {},
   "outputs": [],
   "source": [
    "janela = [\n",
    "[sg.Text('Valor 1'), sg.Input(key='v1',size=(15,0)), sg.Text('Valor 2'), sg.Input(key='v2',size=(15,0))],\n",
    "[sg.Text('Valor 3'), sg.Input(key='v3',size=(15,0)), sg.Text('Valor 4                X')],\n",
    "[sg.Button('Calcular')],\n",
    "]\n",
    "\n",
    "\n",
    "window = sg.Window('Regra de 3 Simples', layout=janela)\n",
    "\n",
    "while True:\n",
    "    event, values = window.read()\n",
    "    if event == sg.WIN_CLOSED:\n",
    "        break\n",
    "    elif event == 'Calcular':\n",
    "         valor1 = values['v1']\n",
    "         valor2 = values['v2']\n",
    "         valor3 = values['v3']\n",
    "        "
   ]
  },
  {
   "cell_type": "code",
   "execution_count": null,
   "metadata": {},
   "outputs": [],
   "source": []
  }
 ],
 "metadata": {
  "kernelspec": {
   "display_name": "Python 3",
   "language": "python",
   "name": "python3"
  },
  "language_info": {
   "codemirror_mode": {
    "name": "ipython",
    "version": 3
   },
   "file_extension": ".py",
   "mimetype": "text/x-python",
   "name": "python",
   "nbconvert_exporter": "python",
   "pygments_lexer": "ipython3",
   "version": "3.11.4"
  },
  "orig_nbformat": 4
 },
 "nbformat": 4,
 "nbformat_minor": 2
}
